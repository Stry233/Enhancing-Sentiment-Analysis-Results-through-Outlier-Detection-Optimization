{
 "cells": [
  {
   "cell_type": "code",
   "execution_count": 1,
   "id": "5581b40b-6373-4339-ab8e-317d6bfd1035",
   "metadata": {},
   "outputs": [
    {
     "name": "stderr",
     "output_type": "stream",
     "text": [
      "Found cached dataset hate_speech18 (/home/yuetian/.cache/huggingface/datasets/hate_speech18/default/0.0.0/775598e7a56b8706cb7cc3781ce7abd83f8a6d0831d6363f1c93b5f963d7c733)\n"
     ]
    },
    {
     "data": {
      "application/vnd.jupyter.widget-view+json": {
       "model_id": "f462ef5e6a2e468c88052e18b2e43114",
       "version_major": 2,
       "version_minor": 0
      },
      "text/plain": [
       "  0%|          | 0/1 [00:00<?, ?it/s]"
      ]
     },
     "metadata": {},
     "output_type": "display_data"
    }
   ],
   "source": [
    "from datasets import load_dataset\n",
    "\n",
    "dataset = load_dataset(\"hate_speech18\")"
   ]
  },
  {
   "cell_type": "code",
   "execution_count": 2,
   "id": "1c0f0ebc-5aec-4258-bd67-a4f6017d4100",
   "metadata": {},
   "outputs": [],
   "source": [
    "split_dataset = dataset['train'].train_test_split(test_size=0.1)"
   ]
  },
  {
   "cell_type": "code",
   "execution_count": 3,
   "id": "2f6278b0-7bf1-409e-a9d8-dce5da835c1c",
   "metadata": {},
   "outputs": [],
   "source": [
    "# Convert the 'train' and 'test' subsets into pandas DataFrames\n",
    "train_df = split_dataset['train'].to_pandas()\n",
    "test_df = split_dataset['test'].to_pandas()"
   ]
  },
  {
   "cell_type": "code",
   "execution_count": 4,
   "id": "2fdab574-5895-45be-9120-4af5b8d6bc00",
   "metadata": {},
   "outputs": [],
   "source": [
    "train_df.to_csv(\"train.csv\")\n",
    "test_df.to_csv(\"test.csv\")"
   ]
  },
  {
   "cell_type": "code",
   "execution_count": 5,
   "id": "7d0e5c9d-7297-474d-a10d-2649ed80fe09",
   "metadata": {},
   "outputs": [
    {
     "data": {
      "text/plain": [
       "0    8548\n",
       "1    1085\n",
       "3     154\n",
       "2      62\n",
       "Name: label, dtype: int64"
      ]
     },
     "execution_count": 5,
     "metadata": {},
     "output_type": "execute_result"
    }
   ],
   "source": [
    "train_df['label'].value_counts()"
   ]
  },
  {
   "cell_type": "code",
   "execution_count": 6,
   "id": "11c45c7e-cc4c-49e6-9206-04d0bdd94eb6",
   "metadata": {},
   "outputs": [
    {
     "data": {
      "text/plain": [
       "0    959\n",
       "1    111\n",
       "3     14\n",
       "2     11\n",
       "Name: label, dtype: int64"
      ]
     },
     "execution_count": 6,
     "metadata": {},
     "output_type": "execute_result"
    }
   ],
   "source": [
    "test_df['label'].value_counts()"
   ]
  },
  {
   "cell_type": "code",
   "execution_count": 13,
   "id": "1f1810a6-50d6-4e00-a07c-43419059a187",
   "metadata": {},
   "outputs": [
    {
     "data": {
      "text/plain": [
       "text            The penguins have n't been indoctrinated ... y...\n",
       "user_id                                                    572847\n",
       "subforum_id                                                  1354\n",
       "num_contexts                                                    0\n",
       "label                                                           3\n",
       "Name: 8, dtype: object"
      ]
     },
     "execution_count": 13,
     "metadata": {},
     "output_type": "execute_result"
    }
   ],
   "source": [
    "train_df.iloc[8]"
   ]
  },
  {
   "cell_type": "code",
   "execution_count": null,
   "id": "73f02f04-4b4e-4f90-b420-219da532183d",
   "metadata": {},
   "outputs": [],
   "source": []
  }
 ],
 "metadata": {
  "kernelspec": {
   "display_name": "pytorch_GPU",
   "language": "python",
   "name": "pytorch_gpu"
  },
  "language_info": {
   "codemirror_mode": {
    "name": "ipython",
    "version": 3
   },
   "file_extension": ".py",
   "mimetype": "text/x-python",
   "name": "python",
   "nbconvert_exporter": "python",
   "pygments_lexer": "ipython3",
   "version": "3.8.16"
  }
 },
 "nbformat": 4,
 "nbformat_minor": 5
}
