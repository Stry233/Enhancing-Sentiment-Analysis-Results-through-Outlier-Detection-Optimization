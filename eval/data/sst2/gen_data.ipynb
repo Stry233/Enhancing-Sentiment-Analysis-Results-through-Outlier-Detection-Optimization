{
 "cells": [
  {
   "cell_type": "code",
   "execution_count": 11,
   "id": "7bff8a79-b3eb-4dbe-bb88-9b63be2ffdce",
   "metadata": {},
   "outputs": [
    {
     "name": "stderr",
     "output_type": "stream",
     "text": [
      "Found cached dataset sst2 (/home/yuetian/.cache/huggingface/datasets/sst2/default/2.0.0/9896208a8d85db057ac50c72282bcb8fe755accc671a57dd8059d4e130961ed5)\n"
     ]
    },
    {
     "data": {
      "application/vnd.jupyter.widget-view+json": {
       "model_id": "fe7ef22d2dc14d1883f357d3926b629f",
       "version_major": 2,
       "version_minor": 0
      },
      "text/plain": [
       "  0%|          | 0/3 [00:00<?, ?it/s]"
      ]
     },
     "metadata": {},
     "output_type": "display_data"
    }
   ],
   "source": [
    "from datasets import load_dataset\n",
    "\n",
    "dataset = load_dataset(\"sst2\")"
   ]
  },
  {
   "cell_type": "code",
   "execution_count": 12,
   "id": "d7e03a09-0baf-4d0b-acfa-123464b38fd9",
   "metadata": {},
   "outputs": [],
   "source": [
    "# Convert the 'train' and 'test' subsets into pandas DataFrames\n",
    "train_df = dataset['train'].to_pandas()\n",
    "test_df = dataset['validation'].to_pandas()"
   ]
  },
  {
   "cell_type": "code",
   "execution_count": 13,
   "id": "0d38963a-91bc-404a-b0b8-6684d2839587",
   "metadata": {},
   "outputs": [],
   "source": [
    "train_df = train_df.rename(columns = {'sentence':'text'})\n",
    "test_df = test_df.rename(columns = {'sentence':'text'})"
   ]
  },
  {
   "cell_type": "code",
   "execution_count": 14,
   "id": "d5ca9807-fee1-4d4d-9978-443aed63be61",
   "metadata": {},
   "outputs": [],
   "source": [
    "train_df.to_csv(\"train.csv\")\n",
    "test_df.to_csv(\"test.csv\")"
   ]
  },
  {
   "cell_type": "code",
   "execution_count": 15,
   "id": "3231f0d8-2aa0-4b9f-9e67-6dad6accada0",
   "metadata": {},
   "outputs": [
    {
     "data": {
      "text/plain": [
       "1    37569\n",
       "0    29780\n",
       "Name: label, dtype: int64"
      ]
     },
     "execution_count": 15,
     "metadata": {},
     "output_type": "execute_result"
    }
   ],
   "source": [
    "train_df['label'].value_counts()"
   ]
  },
  {
   "cell_type": "code",
   "execution_count": 16,
   "id": "d44ed13a-9520-4486-9b95-7dc9ed8db1a2",
   "metadata": {},
   "outputs": [
    {
     "data": {
      "text/plain": [
       "1    444\n",
       "0    428\n",
       "Name: label, dtype: int64"
      ]
     },
     "execution_count": 16,
     "metadata": {},
     "output_type": "execute_result"
    }
   ],
   "source": [
    "test_df['label'].value_counts()"
   ]
  },
  {
   "cell_type": "code",
   "execution_count": null,
   "id": "bce0621a-33fe-4a25-8d55-6f142f5226da",
   "metadata": {},
   "outputs": [],
   "source": []
  }
 ],
 "metadata": {
  "kernelspec": {
   "display_name": "pytorch_GPU",
   "language": "python",
   "name": "pytorch_gpu"
  },
  "language_info": {
   "codemirror_mode": {
    "name": "ipython",
    "version": 3
   },
   "file_extension": ".py",
   "mimetype": "text/x-python",
   "name": "python",
   "nbconvert_exporter": "python",
   "pygments_lexer": "ipython3",
   "version": "3.8.16"
  }
 },
 "nbformat": 4,
 "nbformat_minor": 5
}
